{
  "cells": [
    {
      "cell_type": "markdown",
      "metadata": {
        "id": "view-in-github",
        "colab_type": "text"
      },
      "source": [
        "<a href=\"https://colab.research.google.com/github/reyheneh/10-Essential-Encodings/blob/main/Sequence_encoding.ipynb\" target=\"_parent\"><img src=\"https://colab.research.google.com/assets/colab-badge.svg\" alt=\"Open In Colab\"/></a>"
      ]
    },
    {
      "cell_type": "markdown",
      "metadata": {
        "id": "x4uMB-iAZ3S1"
      },
      "source": [
        "# ***librarys***"
      ]
    },
    {
      "cell_type": "code",
      "source": [
        "! pip install rdkit"
      ],
      "metadata": {
        "colab": {
          "base_uri": "https://localhost:8080/"
        },
        "id": "1J4IGKnjeYsz",
        "outputId": "a0783f93-eb3d-4e09-a315-18fa85e5e3b3"
      },
      "execution_count": 29,
      "outputs": [
        {
          "output_type": "stream",
          "name": "stdout",
          "text": [
            "Collecting rdkit\n",
            "  Downloading rdkit-2024.3.6-cp310-cp310-manylinux_2_28_x86_64.whl.metadata (4.0 kB)\n",
            "Requirement already satisfied: numpy in /usr/local/lib/python3.10/dist-packages (from rdkit) (1.26.4)\n",
            "Requirement already satisfied: Pillow in /usr/local/lib/python3.10/dist-packages (from rdkit) (11.0.0)\n",
            "Downloading rdkit-2024.3.6-cp310-cp310-manylinux_2_28_x86_64.whl (32.8 MB)\n",
            "\u001b[2K   \u001b[90m━━━━━━━━━━━━━━━━━━━━━━━━━━━━━━━━━━━━━━━━\u001b[0m \u001b[32m32.8/32.8 MB\u001b[0m \u001b[31m53.4 MB/s\u001b[0m eta \u001b[36m0:00:00\u001b[0m\n",
            "\u001b[?25hInstalling collected packages: rdkit\n",
            "Successfully installed rdkit-2024.3.6\n"
          ]
        }
      ]
    },
    {
      "cell_type": "code",
      "source": [
        "!pip install propy3"
      ],
      "metadata": {
        "colab": {
          "base_uri": "https://localhost:8080/"
        },
        "id": "ssa61lLHyEiN",
        "outputId": "f247d6b7-f788-4705-e674-2c5a2f1bd24c"
      },
      "execution_count": 3,
      "outputs": [
        {
          "output_type": "stream",
          "name": "stdout",
          "text": [
            "Collecting propy3\n",
            "  Downloading propy3-1.1.1-py3-none-any.whl.metadata (5.6 kB)\n",
            "Downloading propy3-1.1.1-py3-none-any.whl (290 kB)\n",
            "\u001b[2K   \u001b[90m━━━━━━━━━━━━━━━━━━━━━━━━━━━━━━━━━━━━━━━━\u001b[0m \u001b[32m290.3/290.3 kB\u001b[0m \u001b[31m4.9 MB/s\u001b[0m eta \u001b[36m0:00:00\u001b[0m\n",
            "\u001b[?25hInstalling collected packages: propy3\n",
            "Successfully installed propy3-1.1.1\n"
          ]
        }
      ]
    },
    {
      "cell_type": "code",
      "source": [
        "! pip install protpy"
      ],
      "metadata": {
        "colab": {
          "base_uri": "https://localhost:8080/"
        },
        "id": "-H6Xp1oDyVWB",
        "outputId": "02999f9c-5520-4f61-c0d1-a4d81f65cf4f"
      },
      "execution_count": 5,
      "outputs": [
        {
          "output_type": "stream",
          "name": "stdout",
          "text": [
            "Collecting protpy\n",
            "  Downloading protpy-1.2.1-py3-none-any.whl.metadata (14 kB)\n",
            "Collecting aaindex (from protpy)\n",
            "  Downloading aaindex-1.1.2-py3-none-any.whl.metadata (11 kB)\n",
            "Requirement already satisfied: numpy in /usr/local/lib/python3.10/dist-packages (from protpy) (1.26.4)\n",
            "Requirement already satisfied: pandas in /usr/local/lib/python3.10/dist-packages (from protpy) (2.2.2)\n",
            "Collecting varname (from protpy)\n",
            "  Downloading varname-0.13.5-py3-none-any.whl.metadata (12 kB)\n",
            "Requirement already satisfied: python-dateutil>=2.8.2 in /usr/local/lib/python3.10/dist-packages (from pandas->protpy) (2.8.2)\n",
            "Requirement already satisfied: pytz>=2020.1 in /usr/local/lib/python3.10/dist-packages (from pandas->protpy) (2024.2)\n",
            "Requirement already satisfied: tzdata>=2022.7 in /usr/local/lib/python3.10/dist-packages (from pandas->protpy) (2024.2)\n",
            "Collecting executing<3.0,>=2.1 (from varname->protpy)\n",
            "  Downloading executing-2.1.0-py2.py3-none-any.whl.metadata (8.9 kB)\n",
            "Requirement already satisfied: six>=1.5 in /usr/local/lib/python3.10/dist-packages (from python-dateutil>=2.8.2->pandas->protpy) (1.16.0)\n",
            "Downloading protpy-1.2.1-py3-none-any.whl (45 kB)\n",
            "\u001b[2K   \u001b[90m━━━━━━━━━━━━━━━━━━━━━━━━━━━━━━━━━━━━━━━━\u001b[0m \u001b[32m45.1/45.1 kB\u001b[0m \u001b[31m2.0 MB/s\u001b[0m eta \u001b[36m0:00:00\u001b[0m\n",
            "\u001b[?25hDownloading aaindex-1.1.2-py3-none-any.whl (372 kB)\n",
            "\u001b[2K   \u001b[90m━━━━━━━━━━━━━━━━━━━━━━━━━━━━━━━━━━━━━━━━\u001b[0m \u001b[32m373.0/373.0 kB\u001b[0m \u001b[31m8.5 MB/s\u001b[0m eta \u001b[36m0:00:00\u001b[0m\n",
            "\u001b[?25hDownloading varname-0.13.5-py3-none-any.whl (25 kB)\n",
            "Downloading executing-2.1.0-py2.py3-none-any.whl (25 kB)\n",
            "Installing collected packages: executing, aaindex, varname, protpy\n",
            "Successfully installed aaindex-1.1.2 executing-2.1.0 protpy-1.2.1 varname-0.13.5\n"
          ]
        }
      ]
    },
    {
      "cell_type": "code",
      "source": [
        "! pip install Bio"
      ],
      "metadata": {
        "colab": {
          "base_uri": "https://localhost:8080/"
        },
        "id": "3qosFi2yyYmI",
        "outputId": "43548bd0-7056-4dbb-d158-f5c477372c46"
      },
      "execution_count": 8,
      "outputs": [
        {
          "output_type": "stream",
          "name": "stdout",
          "text": [
            "Collecting Bio\n",
            "  Downloading bio-1.7.1-py3-none-any.whl.metadata (5.7 kB)\n",
            "Collecting biopython>=1.80 (from Bio)\n",
            "  Downloading biopython-1.84-cp310-cp310-manylinux_2_17_x86_64.manylinux2014_x86_64.whl.metadata (12 kB)\n",
            "Collecting gprofiler-official (from Bio)\n",
            "  Downloading gprofiler_official-1.0.0-py3-none-any.whl.metadata (11 kB)\n",
            "Collecting mygene (from Bio)\n",
            "  Downloading mygene-3.2.2-py2.py3-none-any.whl.metadata (10 kB)\n",
            "Requirement already satisfied: pandas in /usr/local/lib/python3.10/dist-packages (from Bio) (2.2.2)\n",
            "Requirement already satisfied: pooch in /usr/local/lib/python3.10/dist-packages (from Bio) (1.8.2)\n",
            "Requirement already satisfied: requests in /usr/local/lib/python3.10/dist-packages (from Bio) (2.32.3)\n",
            "Requirement already satisfied: tqdm in /usr/local/lib/python3.10/dist-packages (from Bio) (4.66.6)\n",
            "Requirement already satisfied: numpy in /usr/local/lib/python3.10/dist-packages (from biopython>=1.80->Bio) (1.26.4)\n",
            "Collecting biothings-client>=0.2.6 (from mygene->Bio)\n",
            "  Downloading biothings_client-0.3.1-py2.py3-none-any.whl.metadata (9.8 kB)\n",
            "Requirement already satisfied: python-dateutil>=2.8.2 in /usr/local/lib/python3.10/dist-packages (from pandas->Bio) (2.8.2)\n",
            "Requirement already satisfied: pytz>=2020.1 in /usr/local/lib/python3.10/dist-packages (from pandas->Bio) (2024.2)\n",
            "Requirement already satisfied: tzdata>=2022.7 in /usr/local/lib/python3.10/dist-packages (from pandas->Bio) (2024.2)\n",
            "Requirement already satisfied: platformdirs>=2.5.0 in /usr/local/lib/python3.10/dist-packages (from pooch->Bio) (4.3.6)\n",
            "Requirement already satisfied: packaging>=20.0 in /usr/local/lib/python3.10/dist-packages (from pooch->Bio) (24.2)\n",
            "Requirement already satisfied: charset-normalizer<4,>=2 in /usr/local/lib/python3.10/dist-packages (from requests->Bio) (3.4.0)\n",
            "Requirement already satisfied: idna<4,>=2.5 in /usr/local/lib/python3.10/dist-packages (from requests->Bio) (3.10)\n",
            "Requirement already satisfied: urllib3<3,>=1.21.1 in /usr/local/lib/python3.10/dist-packages (from requests->Bio) (2.2.3)\n",
            "Requirement already satisfied: certifi>=2017.4.17 in /usr/local/lib/python3.10/dist-packages (from requests->Bio) (2024.8.30)\n",
            "Requirement already satisfied: six>=1.5 in /usr/local/lib/python3.10/dist-packages (from python-dateutil>=2.8.2->pandas->Bio) (1.16.0)\n",
            "Downloading bio-1.7.1-py3-none-any.whl (280 kB)\n",
            "\u001b[2K   \u001b[90m━━━━━━━━━━━━━━━━━━━━━━━━━━━━━━━━━━━━━━━━\u001b[0m \u001b[32m281.0/281.0 kB\u001b[0m \u001b[31m7.2 MB/s\u001b[0m eta \u001b[36m0:00:00\u001b[0m\n",
            "\u001b[?25hDownloading biopython-1.84-cp310-cp310-manylinux_2_17_x86_64.manylinux2014_x86_64.whl (3.2 MB)\n",
            "\u001b[2K   \u001b[90m━━━━━━━━━━━━━━━━━━━━━━━━━━━━━━━━━━━━━━━━\u001b[0m \u001b[32m3.2/3.2 MB\u001b[0m \u001b[31m47.6 MB/s\u001b[0m eta \u001b[36m0:00:00\u001b[0m\n",
            "\u001b[?25hDownloading gprofiler_official-1.0.0-py3-none-any.whl (9.3 kB)\n",
            "Downloading mygene-3.2.2-py2.py3-none-any.whl (5.4 kB)\n",
            "Downloading biothings_client-0.3.1-py2.py3-none-any.whl (29 kB)\n",
            "Installing collected packages: biopython, gprofiler-official, biothings-client, mygene, Bio\n",
            "Successfully installed Bio-1.7.1 biopython-1.84 biothings-client-0.3.1 gprofiler-official-1.0.0 mygene-3.2.2\n"
          ]
        }
      ]
    },
    {
      "cell_type": "code",
      "execution_count": 30,
      "metadata": {
        "id": "LG9eMyatrous"
      },
      "outputs": [],
      "source": [
        "import numpy as np\n",
        "import pandas as pd\n",
        "import os.path\n",
        "import functools\n",
        "import math\n",
        "import matplotlib.pyplot as plt\n",
        "from scipy.fft import fft, fftfreq\n",
        "from scipy.spatial import ConvexHull\n",
        "from rdkit import Chem\n",
        "from rdkit.Chem import AllChem\n",
        "from rdkit.Chem import Descriptors\n",
        "from sklearn import model_selection\n",
        "from Bio.SeqUtils.ProtParam import ProteinAnalysis\n",
        "from sklearn.feature_extraction.text import CountVectorizer\n",
        "from sklearn.decomposition import TruncatedSVD\n",
        "from propy import PyPro\n",
        "from propy.GetProteinFromUniprot import GetProteinSequence"
      ]
    },
    {
      "cell_type": "code",
      "execution_count": 10,
      "metadata": {
        "id": "QaqEACM0LM-h"
      },
      "outputs": [],
      "source": [
        "import sklearn\n",
        "import nltk\n",
        "import os\n",
        "import glob\n",
        "import itertools\n",
        "import functools\n",
        "from Bio import SeqIO\n",
        "from aaindex import aaindex1\n",
        "from nltk import ngrams\n",
        "import protpy\n",
        "import random\n",
        "from functools import reduce\n",
        "import matplotlib.pyplot as plt\n",
        "from numpy.random import default_rng\n",
        "from sklearn.metrics import accuracy_score\n",
        "from sklearn.metrics import matthews_corrcoef\n",
        "from sklearn.model_selection import RepeatedStratifiedKFold\n",
        "from sklearn.preprocessing import MinMaxScaler\n",
        "from sklearn.model_selection import StratifiedShuffleSplit # Monte Carlo CV\n",
        "from sklearn.preprocessing import MultiLabelBinarizer"
      ]
    },
    {
      "cell_type": "code",
      "execution_count": 11,
      "metadata": {
        "id": "siL6ievFJeZd"
      },
      "outputs": [],
      "source": [
        "from sklearn.naive_bayes import GaussianNB\n",
        "from sklearn.linear_model import LogisticRegression\n",
        "from sklearn.tree import DecisionTreeClassifier\n",
        "from sklearn.ensemble import RandomForestClassifier\n",
        "from sklearn.ensemble import StackingClassifier\n",
        "from sklearn.ensemble import VotingClassifier"
      ]
    },
    {
      "cell_type": "markdown",
      "metadata": {
        "id": "JjsCaGRcYrJG"
      },
      "source": [
        "# ***read_peptides***"
      ]
    },
    {
      "cell_type": "code",
      "execution_count": 13,
      "metadata": {
        "id": "vveUCdLJZPQ4"
      },
      "outputs": [],
      "source": [
        "def read_data(path):\n",
        "    all_get_seq = []\n",
        "    sequences = list(SeqIO.parse(path)) # data_list[0] the index of dataset\n",
        "    all_get_seq =[]\n",
        "    for seq_record in sequences:\n",
        "        c= str(seq_record.seq\n",
        "            )\n",
        "        all_get_seq.append(c)\n",
        "        return all_get_seq\n"
      ]
    },
    {
      "cell_type": "markdown",
      "metadata": {
        "id": "yjOIRefvpwDK"
      },
      "source": [
        "# **Encodings**"
      ]
    },
    {
      "cell_type": "markdown",
      "metadata": {
        "id": "OnNzYHdMpwDO"
      },
      "source": [
        "**Sparse encoding**"
      ]
    },
    {
      "cell_type": "code",
      "execution_count": 14,
      "metadata": {
        "id": "rvE5t_dEpwDQ"
      },
      "outputs": [],
      "source": [
        "def encode_sequences(sqs):\n",
        "    # Define the amino acid alphabet\n",
        "    amino_acids = 'ACDEFGHIKLMNPQRSTVWY'\n",
        "\n",
        "    num_sequences = len(sqs)\n",
        "    max_length = max([len(seq) for seq in sqs])\n",
        "    matrix = np.zeros((num_sequences, max_length * len(amino_acids)))\n",
        "\n",
        "    for i, seq in enumerate(sqs):\n",
        "        vector = np.zeros((len(seq), len(amino_acids)))\n",
        "        for j, aa in enumerate(seq):\n",
        "            if aa in amino_acids:\n",
        "                k = amino_acids.index(aa)\n",
        "                vector[j,k] = 1\n",
        "        matrix[i,:len(vector.flatten())] = vector.flatten()\n",
        "    return matrix\n"
      ]
    },
    {
      "cell_type": "markdown",
      "metadata": {
        "id": "3BLnHDpOpwDU"
      },
      "source": [
        "**Amino acid composition**"
      ]
    },
    {
      "cell_type": "code",
      "execution_count": 15,
      "metadata": {
        "id": "9iVVvxUSpwDV"
      },
      "outputs": [],
      "source": [
        "def AAC(Data):\n",
        "    aac = []\n",
        "    # Loop through each peptide sequence and calculate amino acid composition\n",
        "    for record in Data:\n",
        "        pro = protpy.amino_acid_composition(record).values\n",
        "        aac.extend(pro)"
      ]
    },
    {
      "cell_type": "markdown",
      "metadata": {
        "id": "RPrhog2npwDX"
      },
      "source": [
        "**PseAAC(pseudo amino acid composition)**"
      ]
    },
    {
      "cell_type": "code",
      "execution_count": 16,
      "metadata": {
        "id": "hw4nZ70EpwDY"
      },
      "outputs": [],
      "source": [
        "def PseAAC(Data):\n",
        "    Pse = []\n",
        "    for seq_data in Data:\n",
        "        DesObject = PyPro.GetProDes(seq_data)  # construct a GetProDes object\n",
        "        # calculate 30 pseudo amino acid composition descriptors\n",
        "        paac = DesObject.GetPAAC(lamda=10, weight=0.05)\n",
        "        Pse.append(paac)\n",
        "        return Pse\n",
        "\n"
      ]
    },
    {
      "cell_type": "markdown",
      "metadata": {
        "id": "7C5TSg_jpwDb"
      },
      "source": [
        "**Reduced amino acid alphabet**"
      ]
    },
    {
      "cell_type": "code",
      "execution_count": 18,
      "metadata": {
        "id": "UINwiEzQpwDc"
      },
      "outputs": [],
      "source": [
        "aa_to_gbmr4 = {\n",
        "    'A': 'A',\n",
        "    'C': 'C',\n",
        "    'D': 'A',\n",
        "    'E': 'A',\n",
        "    'F': 'C',\n",
        "    'G': 'G',\n",
        "    'H': 'C',\n",
        "    'I': 'C',\n",
        "    'K': 'A',\n",
        "    'L': 'C',\n",
        "    'M': 'C',\n",
        "    'N': 'A',\n",
        "    'P': 'T',\n",
        "    'Q': 'A',\n",
        "    'R': 'A',\n",
        "    'S': 'A',\n",
        "    'T': 'A',\n",
        "    'V': 'C',\n",
        "    'W': 'C',\n",
        "    'Y': 'C'}\n",
        "\n",
        "\n",
        "def Reduced_AA(Data):\n",
        "    # Define the n-gram length\n",
        "    n = 3\n",
        "    # Compute the n-gram counts for each sequence\n",
        "    n_features = []\n",
        "    for sequence in Data:\n",
        "        counts = []\n",
        "        for i in range(len(sequence) - n + 1):\n",
        "            n_gram = ''.join([aa_to_gbmr4[sequence[j]] for j in range(i, i + n)])\n",
        "            counts.append(n_gram)\n",
        "        n_features.append(counts)\n",
        "\n",
        "\n",
        "    # Convert n-grams into matrix representation\n",
        "    vectorizer = CountVectorizer(tokenizer=lambda x: x.split(','), lowercase=False)\n",
        "    features_mat = vectorizer.fit_transform([','.join(counts) for counts in n_features])\n",
        "    return features_mat\n"
      ]
    },
    {
      "cell_type": "markdown",
      "metadata": {
        "id": "JlONRqa8pwDf"
      },
      "source": [
        "**Physicochemical properties**"
      ]
    },
    {
      "cell_type": "code",
      "execution_count": 19,
      "metadata": {
        "id": "hllGDTeMpwDg"
      },
      "outputs": [],
      "source": [
        "# Define the physicochemical properties\n",
        "pI_index = aaindex1[\"ZIMJ680104\"].values  # Isoelectric point\n",
        "helix_index = aaindex1[\"BURA740101\"].values  # Normalized frequency of alpha-helix\n",
        "sheet_index = aaindex1[\"CHOP780202\"].values  # Normalized frequency of beta-sheet\n",
        "turn_index = aaindex1[\"MONM990101\"].values  # sec_struct: Turn propensity scale for transmembrane helices (Monne et al., 1999)\n",
        "hydrophobicity_index = aaindex1[\"ARGP820101\"].values\n",
        "\n",
        "def calculate_average_prop(peptide_sequence, prop_values):\n",
        "    amino_acid_counts = {}\n",
        "    amino_acid_prop_sum = {}\n",
        "\n",
        "    # Count the occurrences of each amino acid and calculate the sum of hydrophobicity(for example) values\n",
        "    for amino_acid in peptide_sequence:\n",
        "        amino_acid_counts[amino_acid] = amino_acid_counts.get(amino_acid, 0) + 1\n",
        "        amino_acid_prop_sum[amino_acid] = amino_acid_prop_sum.get(amino_acid, 0) + prop_values[amino_acid]\n",
        "\n",
        "    average_props = {}\n",
        "\n",
        "    # Calculate the average property for each amino acid, multiplying by the count\n",
        "    for amino_acid in amino_acid_counts:\n",
        "        average_props[amino_acid] = amino_acid_prop_sum[amino_acid] / amino_acid_counts[amino_acid]\n",
        "\n",
        "    return average_props\n",
        "\n"
      ]
    },
    {
      "cell_type": "markdown",
      "metadata": {
        "id": "conS549ApwDk"
      },
      "source": [
        "**Autocorrelation**"
      ]
    },
    {
      "cell_type": "markdown",
      "metadata": {
        "id": "McgNPEAOpwDl"
      },
      "source": [
        "Moran_autocorrelation"
      ]
    },
    {
      "cell_type": "code",
      "execution_count": 24,
      "metadata": {
        "id": "TdLIzuVQpwDm"
      },
      "outputs": [],
      "source": [
        "#using default parameters: lag=30, properties=[\"CIDH920105\", \"BHAR880101\", \"CHAM820101\", \"CHAM820102\"\n",
        "# , \"CHOC760101\", \"BIGC670101\", \"CHAM810101\", \"DAYM780201\"], normalize=True\n",
        "\n",
        "def moron_autocorrelation(Data):\n",
        "    moron = []\n",
        "    for moran_en in Data:\n",
        "        try:\n",
        "            moran_autocorrelation = protpy.moran_autocorrelation(moran_en)\n",
        "            moron.extend(moran_autocorrelation.values)\n",
        "        except ZeroDivisionError:\n",
        "            continue\n",
        "    return moron\n"
      ]
    },
    {
      "cell_type": "markdown",
      "metadata": {
        "id": "_rPnxOxHpwDo"
      },
      "source": [
        "broto_moreau autocorrelation"
      ]
    },
    {
      "cell_type": "code",
      "execution_count": 25,
      "metadata": {
        "id": "jRUi4PInpwDp"
      },
      "outputs": [],
      "source": [
        "\n",
        "#using default parameters: lag=30, properties=[\"CIDH920105\", \"BHAR880101\", \"CHAM820101\", \"CHAM820102\",\n",
        "# \"CHOC760101\", \"BIGC670101\", \"CHAM810101\", \"DAYM780201\"], normalize=True\n",
        "# MBAuto_CIDH920105_1  MBAuto_CIDH920105_2  MBAuto_CIDH920105_3  MBAuto_CIDH920105_4  MBAuto_CIDH920105_5 ...\n",
        "# -0.052               -0.104               -0.156               -0.208               0.246 ...\n",
        "\n",
        "def broto_moreau(Data):\n",
        "    b_moreau = []\n",
        "    for bm in Data:\n",
        "        try:\n",
        "            broto_m = protpy.moreaubroto_autocorrelation(bm)\n",
        "            b_moreau.extend(broto_m.values)\n",
        "        except ZeroDivisionError:\n",
        "            continue\n",
        "        return b_moreau\n"
      ]
    },
    {
      "cell_type": "markdown",
      "metadata": {
        "id": "LjiYeGyUpwDt"
      },
      "source": [
        "****Fourier Transformation****"
      ]
    },
    {
      "cell_type": "code",
      "execution_count": 26,
      "metadata": {
        "id": "EUf8LYRkpwDu"
      },
      "outputs": [],
      "source": [
        "# Function to compute the hydrophobicity index (xh)\n",
        "def compute_hydrophobicity_index(sequence):\n",
        "    kyte_doolittle_scale = aaindex1['JURD980101'].values\n",
        "    peptide_h = [kyte_doolittle_scale[aa] for aa in sequence]\n",
        "    return peptide_h\n",
        "\n",
        "# Function to compute the charge index (xc)\n",
        "def compute_charge_index(sequence):\n",
        "    charge_dict = aaindex1['JOND750102'].values\n",
        "    peptide_c = [charge_dict[aa] for aa in sequence]\n",
        "    return peptide_c\n",
        "\n",
        "# Function to compute the polarity index (xp)\n",
        "def compute_polarity_index(sequence):\n",
        "    polarity_dict = aaindex1['GRAR740102'].values\n",
        "    return [polarity_dict[aa] for aa in sequence]\n",
        "\n",
        "# Function to compute the cysteine index (xs)\n",
        "def compute_cysteine_index(sequence):\n",
        "    return [1 if aa == 'C' else 0 for aa in sequence]\n",
        "\n"
      ]
    },
    {
      "cell_type": "markdown",
      "metadata": {
        "id": "GZRk3uiupwDx"
      },
      "source": [
        "**Quantitative structure-activity relationship (QSAR)**"
      ]
    },
    {
      "cell_type": "code",
      "execution_count": 31,
      "metadata": {
        "id": "Ny5onT2gpwDy"
      },
      "outputs": [],
      "source": [
        "# Define a function to calculate chemical properties of a peptide sequence\n",
        "def calculate_properties(sequence):\n",
        "\n",
        "    mol = Chem.MolFromFASTA(sequence) # Convert the peptide sequence to an RDKit molecule to represent chemical compounds\n",
        "    # Calculate the molecular descriptors for the peptide\n",
        "    mw = Descriptors.MolWt(mol) # Molecular weight\n",
        "    logp = Descriptors.MolLogP(mol) # LogP\n",
        "    hba = Descriptors.NumHAcceptors(mol) # Number of hydrogen bond acceptors\n",
        "    hbd = Descriptors.NumHDonors(mol) # Number of hydrogen bond donors\n",
        "    tpsa = Descriptors.TPSA(mol) # Topological polar surface area\n",
        "    return np.array([ mw, logp , hba ,hbd , tpsa ])\n",
        "\n"
      ]
    },
    {
      "cell_type": "markdown",
      "metadata": {
        "id": "p_pwCnNZpwD2"
      },
      "source": [
        "**General structural encodings**"
      ]
    },
    {
      "cell_type": "code",
      "execution_count": 32,
      "metadata": {
        "id": "xgwFm_inpwD3"
      },
      "outputs": [],
      "source": [
        "def GSE(Data):\n",
        "    # Initialize an empty list to store the result for each peptide sequence\n",
        "    result = []\n",
        "\n",
        "    # Loop over the peptides and calculate their SASA\n",
        "    for data in Data:\n",
        "        # # Initialize an empty list to store the SASA values for each atom in the peptide sequence\n",
        "        sasa_list = []\n",
        "        for line in data:\n",
        "            # Convert the peptide sequence to a molecule object\n",
        "            mol = Chem.MolFromSequence(line)\n",
        "\n",
        "            # Add hydrogens to the molecule and embed it in 3D space\n",
        "            hmol = Chem.AddHs(mol)\n",
        "            AllChem.EmbedMolecule(hmol)\n",
        "\n",
        "            # Calculate the atomic radii and SASA\n",
        "            radii = rdFreeSASA.classifyAtoms(hmol)\n",
        "            sasa = rdFreeSASA.CalcSASA(hmol, radii)\n",
        "\n",
        "            # Append the SASA value to the list\n",
        "            sasa_list.append(sasa)\n",
        "\n",
        "        # Append the SASA list as a row to the result list\n",
        "        result.append(sasa_list)\n",
        "        return result\n",
        "\n"
      ]
    }
  ],
  "metadata": {
    "colab": {
      "provenance": [],
      "include_colab_link": true
    },
    "kernelspec": {
      "display_name": "base",
      "language": "python",
      "name": "python3"
    },
    "language_info": {
      "codemirror_mode": {
        "name": "ipython",
        "version": 3
      },
      "file_extension": ".py",
      "mimetype": "text/x-python",
      "name": "python",
      "nbconvert_exporter": "python",
      "pygments_lexer": "ipython3",
      "version": "3.9.13"
    },
    "vscode": {
      "interpreter": {
        "hash": "71e4823a3b7978bad3f2d4be1d51bf2f1318205300d585cefc81ed3ecd50b5ed"
      }
    }
  },
  "nbformat": 4,
  "nbformat_minor": 0
}