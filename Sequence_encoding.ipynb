{
  "cells": [
    {
      "cell_type": "markdown",
      "metadata": {
        "id": "view-in-github",
        "colab_type": "text"
      },
      "source": [
        "<a href=\"https://colab.research.google.com/github/reyheneh/10-Essential-Encodings/blob/main/Sequence_encoding.ipynb\" target=\"_parent\"><img src=\"https://colab.research.google.com/assets/colab-badge.svg\" alt=\"Open In Colab\"/></a>"
      ]
    },
    {
      "cell_type": "markdown",
      "metadata": {
        "id": "x4uMB-iAZ3S1"
      },
      "source": [
        "# ***librarys***"
      ]
    },
    {
      "cell_type": "code",
      "execution_count": null,
      "metadata": {
        "id": "LG9eMyatrous"
      },
      "outputs": [],
      "source": [
        "import numpy as np\n",
        "import pandas as pd\n",
        "from Bio import SeqIO\n",
        "import protpy\n",
        "from propy import PyPro\n",
        "from rdkit import Chem\n",
        "from aaindex import aaindex1\n",
        "from scipy.fft import fft, fftfreq\n",
        "from rdkit.Chem import AllChem\n",
        "from rdkit.Chem import Descriptors\n",
        "from sklearn.feature_extraction.text import CountVectorizer\n",
        "from propy.GetProteinFromUniprot import GetProteinSequence"
      ]
    },
    {
      "cell_type": "markdown",
      "metadata": {
        "id": "JjsCaGRcYrJG"
      },
      "source": [
        "# ***read_peptides***"
      ]
    },
    {
      "cell_type": "code",
      "execution_count": null,
      "metadata": {
        "id": "vveUCdLJZPQ4"
      },
      "outputs": [],
      "source": [
        "def read_data(path):\n",
        "    all_get_seq = []\n",
        "    sequences = list(SeqIO.parse(path)) # data_list[0] the index of dataset\n",
        "    all_get_seq =[]\n",
        "    for seq_record in sequences:\n",
        "        c= str(seq_record.seq\n",
        "            )\n",
        "        all_get_seq.append(c)\n",
        "        return all_get_seq\n"
      ]
    },
    {
      "cell_type": "markdown",
      "metadata": {
        "id": "yjOIRefvpwDK"
      },
      "source": [
        "# **Encodings**"
      ]
    },
    {
      "cell_type": "markdown",
      "metadata": {
        "id": "OnNzYHdMpwDO"
      },
      "source": [
        "**Sparse encoding**"
      ]
    },
    {
      "cell_type": "code",
      "execution_count": null,
      "metadata": {
        "id": "rvE5t_dEpwDQ"
      },
      "outputs": [],
      "source": [
        "def encode_sequences(sqs):\n",
        "    # Define the amino acid alphabet\n",
        "    amino_acids = 'ACDEFGHIKLMNPQRSTVWY'\n",
        "\n",
        "    num_sequences = len(sqs)\n",
        "    max_length = max([len(seq) for seq in sqs])\n",
        "    matrix = np.zeros((num_sequences, max_length * len(amino_acids)))\n",
        "\n",
        "    for i, seq in enumerate(sqs):\n",
        "        vector = np.zeros((len(seq), len(amino_acids)))\n",
        "        for j, aa in enumerate(seq):\n",
        "            if aa in amino_acids:\n",
        "                k = amino_acids.index(aa)\n",
        "                vector[j,k] = 1\n",
        "        matrix[i,:len(vector.flatten())] = vector.flatten()\n",
        "    return matrix\n"
      ]
    },
    {
      "cell_type": "markdown",
      "metadata": {
        "id": "3BLnHDpOpwDU"
      },
      "source": [
        "**Amino acid composition**"
      ]
    },
    {
      "cell_type": "code",
      "execution_count": null,
      "metadata": {
        "id": "9iVVvxUSpwDV"
      },
      "outputs": [],
      "source": [
        "def AAC(Data):\n",
        "    aac = []\n",
        "    # Loop through each peptide sequence and calculate amino acid composition\n",
        "    for record in Data:\n",
        "        pro = protpy.amino_acid_composition(record).values\n",
        "        aac.extend(pro)"
      ]
    },
    {
      "cell_type": "markdown",
      "metadata": {
        "id": "RPrhog2npwDX"
      },
      "source": [
        "**PseAAC(pseudo amino acid composition)**"
      ]
    },
    {
      "cell_type": "code",
      "execution_count": null,
      "metadata": {
        "id": "hw4nZ70EpwDY"
      },
      "outputs": [],
      "source": [
        "def PseAAC(Data):\n",
        "    Pse = []\n",
        "    for seq_data in Data:\n",
        "        DesObject = PyPro.GetProDes(seq_data)  # construct a GetProDes object\n",
        "        # calculate 30 pseudo amino acid composition descriptors\n",
        "        paac = DesObject.GetPAAC(lamda=10, weight=0.05)\n",
        "        Pse.append(paac)\n",
        "        return Pse\n",
        "\n"
      ]
    },
    {
      "cell_type": "markdown",
      "metadata": {
        "id": "7C5TSg_jpwDb"
      },
      "source": [
        "**Reduced amino acid alphabet**"
      ]
    },
    {
      "cell_type": "code",
      "execution_count": null,
      "metadata": {
        "id": "UINwiEzQpwDc"
      },
      "outputs": [],
      "source": [
        "aa_to_gbmr4 = {\n",
        "    'A': 'A',\n",
        "    'C': 'C',\n",
        "    'D': 'A',\n",
        "    'E': 'A',\n",
        "    'F': 'C',\n",
        "    'G': 'G',\n",
        "    'H': 'C',\n",
        "    'I': 'C',\n",
        "    'K': 'A',\n",
        "    'L': 'C',\n",
        "    'M': 'C',\n",
        "    'N': 'A',\n",
        "    'P': 'T',\n",
        "    'Q': 'A',\n",
        "    'R': 'A',\n",
        "    'S': 'A',\n",
        "    'T': 'A',\n",
        "    'V': 'C',\n",
        "    'W': 'C',\n",
        "    'Y': 'C'}\n",
        "\n",
        "\n",
        "def Reduced_AA(Data):\n",
        "    # Define the n-gram length\n",
        "    n = 3\n",
        "    # Compute the n-gram counts for each sequence\n",
        "    n_features = []\n",
        "    for sequence in Data:\n",
        "        counts = []\n",
        "        for i in range(len(sequence) - n + 1):\n",
        "            n_gram = ''.join([aa_to_gbmr4[sequence[j]] for j in range(i, i + n)])\n",
        "            counts.append(n_gram)\n",
        "        n_features.append(counts)\n",
        "\n",
        "\n",
        "    # Convert n-grams into matrix representation\n",
        "    vectorizer = CountVectorizer(tokenizer=lambda x: x.split(','), lowercase=False)\n",
        "    features_mat = vectorizer.fit_transform([','.join(counts) for counts in n_features])\n",
        "    return features_mat\n"
      ]
    },
    {
      "cell_type": "markdown",
      "metadata": {
        "id": "JlONRqa8pwDf"
      },
      "source": [
        "**Physicochemical properties**"
      ]
    },
    {
      "cell_type": "code",
      "execution_count": null,
      "metadata": {
        "id": "hllGDTeMpwDg"
      },
      "outputs": [],
      "source": [
        "# Define the physicochemical properties\n",
        "pI_index = aaindex1[\"ZIMJ680104\"].values  # Isoelectric point\n",
        "helix_index = aaindex1[\"BURA740101\"].values  # Normalized frequency of alpha-helix\n",
        "sheet_index = aaindex1[\"CHOP780202\"].values  # Normalized frequency of beta-sheet\n",
        "turn_index = aaindex1[\"MONM990101\"].values  # sec_struct: Turn propensity scale for transmembrane helices (Monne et al., 1999)\n",
        "hydrophobicity_index = aaindex1[\"ARGP820101\"].values\n",
        "\n",
        "def calculate_average_prop(peptide_sequence, prop_values):\n",
        "    amino_acid_counts = {}\n",
        "    amino_acid_prop_sum = {}\n",
        "\n",
        "    # Count the occurrences of each amino acid and calculate the sum of hydrophobicity(for example) values\n",
        "    for amino_acid in peptide_sequence:\n",
        "        amino_acid_counts[amino_acid] = amino_acid_counts.get(amino_acid, 0) + 1\n",
        "        amino_acid_prop_sum[amino_acid] = amino_acid_prop_sum.get(amino_acid, 0) + prop_values[amino_acid]\n",
        "\n",
        "    average_props = {}\n",
        "\n",
        "    # Calculate the average property for each amino acid, multiplying by the count\n",
        "    for amino_acid in amino_acid_counts:\n",
        "        average_props[amino_acid] = amino_acid_prop_sum[amino_acid] / amino_acid_counts[amino_acid]\n",
        "\n",
        "    return average_props\n",
        "\n"
      ]
    },
    {
      "cell_type": "markdown",
      "metadata": {
        "id": "conS549ApwDk"
      },
      "source": [
        "**Autocorrelation**"
      ]
    },
    {
      "cell_type": "markdown",
      "metadata": {
        "id": "McgNPEAOpwDl"
      },
      "source": [
        "Moran_autocorrelation"
      ]
    },
    {
      "cell_type": "code",
      "execution_count": null,
      "metadata": {
        "id": "TdLIzuVQpwDm"
      },
      "outputs": [],
      "source": [
        "#using default parameters: lag=30, properties=[\"CIDH920105\", \"BHAR880101\", \"CHAM820101\", \"CHAM820102\"\n",
        "# , \"CHOC760101\", \"BIGC670101\", \"CHAM810101\", \"DAYM780201\"], normalize=True\n",
        "\n",
        "def moron_autocorrelation(Data):\n",
        "    moron = []\n",
        "    for moran_en in Data:\n",
        "        try:\n",
        "            moran_autocorrelation = protpy.moran_autocorrelation(moran_en)\n",
        "            moron.extend(moran_autocorrelation.values)\n",
        "        except ZeroDivisionError:\n",
        "            continue\n",
        "    return moron\n"
      ]
    },
    {
      "cell_type": "markdown",
      "metadata": {
        "id": "_rPnxOxHpwDo"
      },
      "source": [
        "broto_moreau autocorrelation"
      ]
    },
    {
      "cell_type": "code",
      "execution_count": null,
      "metadata": {
        "id": "jRUi4PInpwDp"
      },
      "outputs": [],
      "source": [
        "\n",
        "#using default parameters: lag=30, properties=[\"CIDH920105\", \"BHAR880101\", \"CHAM820101\", \"CHAM820102\",\n",
        "# \"CHOC760101\", \"BIGC670101\", \"CHAM810101\", \"DAYM780201\"], normalize=True\n",
        "# MBAuto_CIDH920105_1  MBAuto_CIDH920105_2  MBAuto_CIDH920105_3  MBAuto_CIDH920105_4  MBAuto_CIDH920105_5 ...\n",
        "# -0.052               -0.104               -0.156               -0.208               0.246 ...\n",
        "\n",
        "def broto_moreau(Data):\n",
        "    b_moreau = []\n",
        "    for bm in Data:\n",
        "        try:\n",
        "            broto_m = protpy.moreaubroto_autocorrelation(bm)\n",
        "            b_moreau.extend(broto_m.values)\n",
        "        except ZeroDivisionError:\n",
        "            continue\n",
        "        return b_moreau\n"
      ]
    },
    {
      "cell_type": "markdown",
      "metadata": {
        "id": "LjiYeGyUpwDt"
      },
      "source": [
        "****Fourier Transformation****"
      ]
    },
    {
      "cell_type": "code",
      "source": [
        "# Fourier Analysis of Encoded Peptides\n",
        "# Computes Fourier transforms of physicochemical properties of peptide sequences and stores their power spectra.\n",
        "\n",
        "import numpy as np\n",
        "import pandas as pd\n",
        "from scipy.fft import fft, fftfreq\n",
        "\n",
        "\n",
        "# Function to compute the hydrophobicity index\n",
        "def compute_hydrophobicity_index(sequence):\n",
        "    try:\n",
        "        kyte_doolittle_scale = aaindex1['JURD980101']\n",
        "        return [kyte_doolittle_scale[aa] for aa in sequence]\n",
        "    except KeyError as e:\n",
        "        raise ValueError(f\"Invalid amino acid in sequence: {e}\")\n",
        "\n",
        "# Function to compute the charge index\n",
        "def compute_charge_index(sequence):\n",
        "    try:\n",
        "        charge_dict = aaindex1['JOND750102']\n",
        "        return [charge_dict[aa] for aa in sequence]\n",
        "    except KeyError as e:\n",
        "        raise ValueError(f\"Invalid amino acid in sequence: {e}\")\n",
        "\n",
        "# Function to compute the polarity index\n",
        "def compute_polarity_index(sequence):\n",
        "    try:\n",
        "        polarity_dict = aaindex1['GRAR740102']\n",
        "        return [polarity_dict[aa] for aa in sequence]\n",
        "    except KeyError as e:\n",
        "        raise ValueError(f\"Invalid amino acid in sequence: {e}\")\n",
        "\n",
        "# Function to compute the cysteine index\n",
        "def compute_cysteine_index(sequence):\n",
        "    return [1 if aa == 'C' else 0 for aa in sequence]\n",
        "\n",
        "# Initialize empty lists to store the concatenated power spectra\n",
        "power_spectra = {\n",
        "    'hydrophobicity': [],\n",
        "    'charge': [],\n",
        "    'polarity': [],\n",
        "    'cysteine': []\n",
        "}\n",
        "\n",
        "# Process each peptide sequence\n",
        "for peptide_sequence in Data:\n",
        "    # Compute the indices\n",
        "    hydrophobicity_index = compute_hydrophobicity_index(peptide_sequence)\n",
        "    charge_index = compute_charge_index(peptide_sequence)\n",
        "    polarity_index = compute_polarity_index(peptide_sequence)\n",
        "    cysteine_index = compute_cysteine_index(peptide_sequence)\n",
        "\n",
        "    # Compute Fourier transforms and power spectra\n",
        "    n = len(peptide_sequence)\n",
        "    hydrophobicity_power = np.abs(fft(hydrophobicity_index)) ** 2\n",
        "    charge_power = np.abs(fft(charge_index)) ** 2\n",
        "    polarity_power = np.abs(fft(polarity_index)) ** 2\n",
        "    cysteine_power = np.abs(fft(cysteine_index)) ** 2\n",
        "\n",
        "    # Store results\n",
        "    power_spectra['hydrophobicity'].append(hydrophobicity_power)\n",
        "    power_spectra['charge'].append(charge_power)\n",
        "    power_spectra['polarity'].append(polarity_power)\n",
        "    power_spectra['cysteine'].append(cysteine_power)\n",
        "\n",
        "# Convert results to data frames\n",
        "df_hydrophobicity = pd.DataFrame(power_spectra['hydrophobicity'])\n",
        "df_charge = pd.DataFrame(power_spectra['charge'])\n",
        "df_polarity = pd.DataFrame(power_spectra['polarity'])\n",
        "df_cysteine = pd.DataFrame(power_spectra['cysteine'])\n",
        "\n",
        "# Save to CSV files (optional)\n",
        "df_hydrophobicity.to_csv('hydrophobicity_power_spectra.csv', index=False)\n",
        "df_charge.to_csv('charge_power_spectra.csv', index=False)\n",
        "df_polarity.to_csv('polarity_power_spectra.csv', index=False)\n",
        "df_cysteine.to_csv('cysteine_power_spectra.csv', index=False)\n",
        "\n",
        "print(\"Fourier analysis completed. Results saved as CSV files.\")\n"
      ],
      "metadata": {
        "id": "rLeEDjgvKNCc"
      },
      "execution_count": null,
      "outputs": []
    },
    {
      "cell_type": "markdown",
      "metadata": {
        "id": "GZRk3uiupwDx"
      },
      "source": [
        "**Quantitative structure-activity relationship (QSAR)**"
      ]
    },
    {
      "cell_type": "code",
      "execution_count": null,
      "metadata": {
        "id": "Ny5onT2gpwDy"
      },
      "outputs": [],
      "source": [
        "# Define a function to calculate chemical properties of a peptide sequence\n",
        "def calculate_properties(sequence):\n",
        "\n",
        "    mol = Chem.MolFromFASTA(sequence) # Convert the peptide sequence to an RDKit molecule to represent chemical compounds\n",
        "    # Calculate the molecular descriptors for the peptide\n",
        "    mw = Descriptors.MolWt(mol) # Molecular weight\n",
        "    logp = Descriptors.MolLogP(mol) # LogP\n",
        "    hba = Descriptors.NumHAcceptors(mol) # Number of hydrogen bond acceptors\n",
        "    hbd = Descriptors.NumHDonors(mol) # Number of hydrogen bond donors\n",
        "    tpsa = Descriptors.TPSA(mol) # Topological polar surface area\n",
        "    return np.array([ mw, logp , hba ,hbd , tpsa ])\n",
        "\n"
      ]
    },
    {
      "cell_type": "markdown",
      "metadata": {
        "id": "p_pwCnNZpwD2"
      },
      "source": [
        "**General structural encodings**"
      ]
    },
    {
      "cell_type": "code",
      "execution_count": null,
      "metadata": {
        "id": "xgwFm_inpwD3"
      },
      "outputs": [],
      "source": [
        "def GSE(Data):\n",
        "    # Initialize an empty list to store the result for each peptide sequence\n",
        "    result = []\n",
        "\n",
        "    # Loop over the peptides and calculate their SASA\n",
        "    for data in Data:\n",
        "        # # Initialize an empty list to store the SASA values for each atom in the peptide sequence\n",
        "        sasa_list = []\n",
        "        for line in data:\n",
        "            # Convert the peptide sequence to a molecule object\n",
        "            mol = Chem.MolFromSequence(line)\n",
        "\n",
        "            # Add hydrogens to the molecule and embed it in 3D space\n",
        "            hmol = Chem.AddHs(mol)\n",
        "            AllChem.EmbedMolecule(hmol)\n",
        "\n",
        "            # Calculate the atomic radii and SASA\n",
        "            radii = rdFreeSASA.classifyAtoms(hmol)\n",
        "            sasa = rdFreeSASA.CalcSASA(hmol, radii)\n",
        "\n",
        "            # Append the SASA value to the list\n",
        "            sasa_list.append(sasa)\n",
        "\n",
        "        # Append the SASA list as a row to the result list\n",
        "        result.append(sasa_list)\n",
        "        return result\n",
        "\n"
      ]
    }
  ],
  "metadata": {
    "colab": {
      "provenance": [],
      "include_colab_link": true
    },
    "kernelspec": {
      "display_name": "base",
      "language": "python",
      "name": "python3"
    },
    "language_info": {
      "codemirror_mode": {
        "name": "ipython",
        "version": 3
      },
      "file_extension": ".py",
      "mimetype": "text/x-python",
      "name": "python",
      "nbconvert_exporter": "python",
      "pygments_lexer": "ipython3",
      "version": "3.9.13"
    },
    "vscode": {
      "interpreter": {
        "hash": "71e4823a3b7978bad3f2d4be1d51bf2f1318205300d585cefc81ed3ecd50b5ed"
      }
    }
  },
  "nbformat": 4,
  "nbformat_minor": 0
}